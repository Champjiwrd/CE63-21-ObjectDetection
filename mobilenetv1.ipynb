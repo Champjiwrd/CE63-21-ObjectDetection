{
  "nbformat": 4,
  "nbformat_minor": 0,
  "metadata": {
    "colab": {
      "name": "mobilenetv1.ipynb",
      "provenance": [],
      "authorship_tag": "ABX9TyP3auQSID8jUXhTU00wae/Q",
      "include_colab_link": true
    },
    "kernelspec": {
      "name": "python3",
      "display_name": "Python 3"
    },
    "language_info": {
      "name": "python"
    }
  },
  "cells": [
    {
      "cell_type": "markdown",
      "metadata": {
        "id": "view-in-github",
        "colab_type": "text"
      },
      "source": [
        "<a href=\"https://colab.research.google.com/github/Champjiwrd/CE63-21-ObjectDetection/blob/master/mobilenetv1.ipynb\" target=\"_parent\"><img src=\"https://colab.research.google.com/assets/colab-badge.svg\" alt=\"Open In Colab\"/></a>"
      ]
    },
    {
      "cell_type": "markdown",
      "metadata": {
        "id": "QsZvoBRXSwpM"
      },
      "source": [
        "# Set up"
      ]
    },
    {
      "cell_type": "code",
      "metadata": {
        "colab": {
          "base_uri": "https://localhost:8080/"
        },
        "id": "HT8wui6FP2s8",
        "outputId": "04bbe3a3-79e1-4278-ecdf-853bd610f7e1"
      },
      "source": [
        "%tensorflow_version 1.x  #Select module of the tensorflow\n",
        "!pip show tensorflow"
      ],
      "execution_count": 2,
      "outputs": [
        {
          "output_type": "stream",
          "text": [
            "`%tensorflow_version` only switches the major version: 1.x or 2.x.\n",
            "You set: `1.x  #Select module of the tensorflow`. This will be interpreted as: `1.x`.\n",
            "\n",
            "\n",
            "TensorFlow 1.x selected.\n",
            "Name: tensorflow\n",
            "Version: 1.15.2\n",
            "Summary: TensorFlow is an open source machine learning framework for everyone.\n",
            "Home-page: https://www.tensorflow.org/\n",
            "Author: Google Inc.\n",
            "Author-email: packages@tensorflow.org\n",
            "License: Apache 2.0\n",
            "Location: /tensorflow-1.15.2/python3.7\n",
            "Requires: keras-applications, wrapt, astor, wheel, google-pasta, opt-einsum, termcolor, grpcio, tensorboard, six, keras-preprocessing, protobuf, absl-py, gast, tensorflow-estimator, numpy\n",
            "Required-by: stable-baselines, magenta, fancyimpute\n"
          ],
          "name": "stdout"
        }
      ]
    },
    {
      "cell_type": "code",
      "metadata": {
        "colab": {
          "base_uri": "https://localhost:8080/"
        },
        "id": "GmdxnSuEQnsY",
        "outputId": "7fd8a92b-3f81-4e8d-8926-514722607329"
      },
      "source": [
        "!pip install tf_slim"
      ],
      "execution_count": 3,
      "outputs": [
        {
          "output_type": "stream",
          "text": [
            "Collecting tf_slim\n",
            "\u001b[?25l  Downloading https://files.pythonhosted.org/packages/02/97/b0f4a64df018ca018cc035d44f2ef08f91e2e8aa67271f6f19633a015ff7/tf_slim-1.1.0-py2.py3-none-any.whl (352kB)\n",
            "\r\u001b[K     |█                               | 10kB 13.3MB/s eta 0:00:01\r\u001b[K     |█▉                              | 20kB 12.9MB/s eta 0:00:01\r\u001b[K     |██▉                             | 30kB 10.9MB/s eta 0:00:01\r\u001b[K     |███▊                            | 40kB 6.9MB/s eta 0:00:01\r\u001b[K     |████▋                           | 51kB 4.8MB/s eta 0:00:01\r\u001b[K     |█████▋                          | 61kB 5.5MB/s eta 0:00:01\r\u001b[K     |██████▌                         | 71kB 5.5MB/s eta 0:00:01\r\u001b[K     |███████▌                        | 81kB 6.0MB/s eta 0:00:01\r\u001b[K     |████████▍                       | 92kB 5.3MB/s eta 0:00:01\r\u001b[K     |█████████▎                      | 102kB 5.7MB/s eta 0:00:01\r\u001b[K     |██████████▎                     | 112kB 5.7MB/s eta 0:00:01\r\u001b[K     |███████████▏                    | 122kB 5.7MB/s eta 0:00:01\r\u001b[K     |████████████                    | 133kB 5.7MB/s eta 0:00:01\r\u001b[K     |█████████████                   | 143kB 5.7MB/s eta 0:00:01\r\u001b[K     |██████████████                  | 153kB 5.7MB/s eta 0:00:01\r\u001b[K     |███████████████                 | 163kB 5.7MB/s eta 0:00:01\r\u001b[K     |███████████████▉                | 174kB 5.7MB/s eta 0:00:01\r\u001b[K     |████████████████▊               | 184kB 5.7MB/s eta 0:00:01\r\u001b[K     |█████████████████▊              | 194kB 5.7MB/s eta 0:00:01\r\u001b[K     |██████████████████▋             | 204kB 5.7MB/s eta 0:00:01\r\u001b[K     |███████████████████▌            | 215kB 5.7MB/s eta 0:00:01\r\u001b[K     |████████████████████▌           | 225kB 5.7MB/s eta 0:00:01\r\u001b[K     |█████████████████████▍          | 235kB 5.7MB/s eta 0:00:01\r\u001b[K     |██████████████████████▍         | 245kB 5.7MB/s eta 0:00:01\r\u001b[K     |███████████████████████▎        | 256kB 5.7MB/s eta 0:00:01\r\u001b[K     |████████████████████████▏       | 266kB 5.7MB/s eta 0:00:01\r\u001b[K     |█████████████████████████▏      | 276kB 5.7MB/s eta 0:00:01\r\u001b[K     |██████████████████████████      | 286kB 5.7MB/s eta 0:00:01\r\u001b[K     |███████████████████████████     | 296kB 5.7MB/s eta 0:00:01\r\u001b[K     |████████████████████████████    | 307kB 5.7MB/s eta 0:00:01\r\u001b[K     |████████████████████████████▉   | 317kB 5.7MB/s eta 0:00:01\r\u001b[K     |█████████████████████████████▉  | 327kB 5.7MB/s eta 0:00:01\r\u001b[K     |██████████████████████████████▊ | 337kB 5.7MB/s eta 0:00:01\r\u001b[K     |███████████████████████████████▋| 348kB 5.7MB/s eta 0:00:01\r\u001b[K     |████████████████████████████████| 358kB 5.7MB/s \n",
            "\u001b[?25hRequirement already satisfied: absl-py>=0.2.2 in /usr/local/lib/python3.7/dist-packages (from tf_slim) (0.10.0)\n",
            "Requirement already satisfied: six in /usr/local/lib/python3.7/dist-packages (from absl-py>=0.2.2->tf_slim) (1.15.0)\n",
            "Installing collected packages: tf-slim\n",
            "Successfully installed tf-slim-1.1.0\n"
          ],
          "name": "stdout"
        }
      ]
    },
    {
      "cell_type": "code",
      "metadata": {
        "colab": {
          "base_uri": "https://localhost:8080/"
        },
        "id": "24Ik4k1WQwJP",
        "outputId": "410151bb-3721-439a-baa7-3671b8a186cc"
      },
      "source": [
        "%cd /root/\n",
        "!git clone https://github.com/tensorflow/models.git # Import required models from Github"
      ],
      "execution_count": 4,
      "outputs": [
        {
          "output_type": "stream",
          "text": [
            "/root\n",
            "Cloning into 'models'...\n",
            "remote: Enumerating objects: 32, done.\u001b[K\n",
            "remote: Counting objects: 100% (32/32), done.\u001b[K\n",
            "remote: Compressing objects: 100% (31/31), done.\u001b[K\n",
            "remote: Total 53889 (delta 11), reused 22 (delta 1), pack-reused 53857\u001b[K\n",
            "Receiving objects: 100% (53889/53889), 569.76 MiB | 31.37 MiB/s, done.\n",
            "Resolving deltas: 100% (37008/37008), done.\n"
          ],
          "name": "stdout"
        }
      ]
    },
    {
      "cell_type": "code",
      "metadata": {
        "colab": {
          "base_uri": "https://localhost:8080/"
        },
        "id": "bPOfTXyzQyh6",
        "outputId": "c0f5349f-2333-4c6d-8b75-92e9b909e4c8"
      },
      "source": [
        "!wget https://bin.equinox.io/c/4VmDzA7iaHb/ngrok-stable-linux-amd64.zip\n",
        "!unzip -o ngrok-stable-linux-amd64.zip"
      ],
      "execution_count": 5,
      "outputs": [
        {
          "output_type": "stream",
          "text": [
            "--2021-03-19 06:54:15--  https://bin.equinox.io/c/4VmDzA7iaHb/ngrok-stable-linux-amd64.zip\n",
            "Resolving bin.equinox.io (bin.equinox.io)... 54.159.124.229, 52.55.225.227, 52.5.36.149, ...\n",
            "Connecting to bin.equinox.io (bin.equinox.io)|54.159.124.229|:443... connected.\n",
            "HTTP request sent, awaiting response... 200 OK\n",
            "Length: 13773305 (13M) [application/octet-stream]\n",
            "Saving to: ‘ngrok-stable-linux-amd64.zip’\n",
            "\n",
            "ngrok-stable-linux- 100%[===================>]  13.13M  37.4MB/s    in 0.4s    \n",
            "\n",
            "2021-03-19 06:54:15 (37.4 MB/s) - ‘ngrok-stable-linux-amd64.zip’ saved [13773305/13773305]\n",
            "\n",
            "Archive:  ngrok-stable-linux-amd64.zip\n",
            "  inflating: ngrok                   \n"
          ],
          "name": "stdout"
        }
      ]
    },
    {
      "cell_type": "code",
      "metadata": {
        "colab": {
          "base_uri": "https://localhost:8080/"
        },
        "id": "shs8Obv1Q1sg",
        "outputId": "b940d47c-967c-4c8c-a789-68623331d57f"
      },
      "source": [
        "#the logs that are created while training \n",
        "LOG_DIR = \"/root/models/trained\"\n",
        "get_ipython().system_raw(\n",
        "    'tensorboard --logdir {} --host 0.0.0.0 --port 6006 &'\n",
        "    .format(LOG_DIR)\n",
        ")\n",
        "get_ipython().system_raw('./ngrok http 6006 &')\n",
        "#The link to tensorboard.\n",
        "#works after the training starts.\n",
        "!curl -s http://localhost:4040/api/tunnels | python3 -c \\\n",
        "    \"import sys, json; print(json.load(sys.stdin)['tunnels'][0]['public_url'])\""
      ],
      "execution_count": 8,
      "outputs": [
        {
          "output_type": "stream",
          "text": [
            "http://ec14c05d452f.ngrok.io\n"
          ],
          "name": "stdout"
        }
      ]
    },
    {
      "cell_type": "code",
      "metadata": {
        "colab": {
          "base_uri": "https://localhost:8080/"
        },
        "id": "rZr-8RbuSJdg",
        "outputId": "b9f46994-7d9d-46af-8152-e3382ba89b52"
      },
      "source": [
        "%cd /root/models/research/\n",
        "!protoc object_detection/protos/*.proto --python_out=.\n",
        "import os\n",
        "os.environ['PYTHONPATH'] += ':/root/models/research/:/root/models/research/slim/:/root/models/research/object_detection/utils/:/root/models/research/object_detection'\n",
        "!python object_detection/builders/model_builder_test.py"
      ],
      "execution_count": 9,
      "outputs": [
        {
          "output_type": "stream",
          "text": [
            "/root/models/research\n"
          ],
          "name": "stdout"
        }
      ]
    },
    {
      "cell_type": "markdown",
      "metadata": {
        "id": "LIzctOlGTQY4"
      },
      "source": [
        "# GG ln"
      ]
    },
    {
      "cell_type": "code",
      "metadata": {
        "colab": {
          "base_uri": "https://localhost:8080/"
        },
        "id": "UPhGHPgvQNgi",
        "outputId": "e1774435-015b-4559-b39c-6a6683fa28ed"
      },
      "source": [
        "from google.colab import drive\n",
        "drive.mount('/content/gdrive')"
      ],
      "execution_count": 1,
      "outputs": [
        {
          "output_type": "stream",
          "text": [
            "Mounted at /content/gdrive\n"
          ],
          "name": "stdout"
        }
      ]
    },
    {
      "cell_type": "code",
      "metadata": {
        "id": "UAfjQ9lOTRu0"
      },
      "source": [
        "!ln -s /content/gdrive/MyDrive/CEProject63-21ObjectDetection/colab_work/ /ce2\n",
        "!ln -s /content/gdrive/MyDrive/CEProject63-21ObjectDetection/dataset/ /dataset2"
      ],
      "execution_count": 15,
      "outputs": []
    },
    {
      "cell_type": "code",
      "metadata": {
        "colab": {
          "base_uri": "https://localhost:8080/"
        },
        "id": "Vl9qgpvlTnVc",
        "outputId": "17db99b2-d588-42db-c5d8-78bdb9b7e852"
      },
      "source": [
        "%cd /ce2"
      ],
      "execution_count": 16,
      "outputs": [
        {
          "output_type": "stream",
          "text": [
            "/content/gdrive/.shortcut-targets-by-id/1hQoqbcLdIKP1y1vE2waDf28rLEbA3yqR/CEProject63-21ObjectDetection/colab_work\n"
          ],
          "name": "stdout"
        }
      ]
    },
    {
      "cell_type": "markdown",
      "metadata": {
        "id": "TmJB5Lzgz1JM"
      },
      "source": [
        "# yolo to csv"
      ]
    },
    {
      "cell_type": "code",
      "metadata": {
        "id": "n5npbbGAz93h"
      },
      "source": [
        "import os\n",
        "import glob\n",
        "import pandas as pd\n",
        "import numpy as np\n",
        "from PIL import Image"
      ],
      "execution_count": 80,
      "outputs": []
    },
    {
      "cell_type": "code",
      "metadata": {
        "id": "AvR2NWhS0KqI"
      },
      "source": [
        "os.chdir(r'/content/gdrive/MyDrive/CEProject63-21ObjectDetection/dataset/t1')\n",
        "myFiles = glob.glob('*.txt')"
      ],
      "execution_count": 77,
      "outputs": []
    },
    {
      "cell_type": "code",
      "metadata": {
        "colab": {
          "base_uri": "https://localhost:8080/"
        },
        "id": "FxILb4w917eY",
        "outputId": "fc4f69a6-5641-4926-a736-7e6f394c9174"
      },
      "source": [
        "myFiles = myFiles[:-1]\n",
        "len(myFiles)"
      ],
      "execution_count": 78,
      "outputs": [
        {
          "output_type": "execute_result",
          "data": {
            "text/plain": [
              "813"
            ]
          },
          "metadata": {
            "tags": []
          },
          "execution_count": 78
        }
      ]
    },
    {
      "cell_type": "code",
      "metadata": {
        "colab": {
          "base_uri": "https://localhost:8080/"
        },
        "id": "iY2vr8np0Zrg",
        "outputId": "38ae5d56-9434-435d-a14b-876dc79f1882"
      },
      "source": [
        "class_id = 'shirt'\n",
        "final_df=[]\n",
        "for item in myFiles:\n",
        "    im = Image.open('/content/gdrive/MyDrive/CEProject63-21ObjectDetection/dataset/t1/'+item.replace('txt','jpg'))\n",
        "    width, height = im.size\n",
        "    row=[]\n",
        "    bbox_temp=[]\n",
        "    with open(item, 'rt') as fd:\n",
        "        first_line = fd.readline()\n",
        "        splited = first_line.split();\n",
        "        \n",
        "        \n",
        "        try:\n",
        "            row.append(item)\n",
        "            row.append(width)\n",
        "            row.append(height)\n",
        "            row.append(class_id)\n",
        "            row.append(float(splited[1])*width)\n",
        "            row.append(float(splited[2])*height)\n",
        "            row.append(float(splited[3])*width)\n",
        "            row.append(float(splited[4])*height)\n",
        "            final_df.append(row)\n",
        "        except:\n",
        "            print(\"file is not in YOLO format!\")\n",
        "df = pd.DataFrame(final_df,columns=['filename', 'width', 'height', 'class', 'xmin', 'ymin', 'xmax', 'ymax'])\n",
        "df.to_csv(\"/content/gdrive/MyDrive/CEProject63-21ObjectDetection/dataset/saved.csv\",index=False)"
      ],
      "execution_count": 83,
      "outputs": [
        {
          "output_type": "stream",
          "text": [
            "file is not in YOLO format!\n"
          ],
          "name": "stdout"
        }
      ]
    },
    {
      "cell_type": "markdown",
      "metadata": {
        "id": "GMQ6wlhfSsJR"
      },
      "source": [
        "#Convert xml to csv"
      ]
    },
    {
      "cell_type": "code",
      "metadata": {
        "colab": {
          "base_uri": "https://localhost:8080/"
        },
        "id": "n6FcafEZTA5J",
        "outputId": "af80806f-71a8-4255-c1f5-6d73e0366a36"
      },
      "source": [
        "!pwd"
      ],
      "execution_count": 10,
      "outputs": [
        {
          "output_type": "stream",
          "text": [
            "/root/models/research\n"
          ],
          "name": "stdout"
        }
      ]
    },
    {
      "cell_type": "code",
      "metadata": {
        "colab": {
          "base_uri": "https://localhost:8080/"
        },
        "id": "qQ9NmqQQTCET",
        "outputId": "290eb865-d830-4d78-f566-8e561e08bc9f"
      },
      "source": [
        "%cd /ce2/ssd/data/VOCdevkit/MELON/"
      ],
      "execution_count": 85,
      "outputs": [
        {
          "output_type": "stream",
          "text": [
            "/content/gdrive/.shortcut-targets-by-id/1hQoqbcLdIKP1y1vE2waDf28rLEbA3yqR/CEProject63-21ObjectDetection/colab_work/ssd/data/VOCdevkit/MELON\n"
          ],
          "name": "stdout"
        }
      ]
    },
    {
      "cell_type": "code",
      "metadata": {
        "id": "qiHNBTXSSrtI"
      },
      "source": [
        "import os\n",
        "import glob\n",
        "import pandas as pd\n",
        "import xml.etree.ElementTree as ET\n",
        "\n",
        "\n",
        "def xml_to_csv(path):\n",
        "    xml_list = []\n",
        "    for xml_file in glob.glob(path + '/*.xml'):\n",
        "        tree = ET.parse(xml_file)\n",
        "        root = tree.getroot()\n",
        "        for member in root.findall('object'):\n",
        "            value = (root.find('filename').text,\n",
        "                     int(root.find('size')[0].text),\n",
        "                     int(root.find('size')[1].text),\n",
        "                     member[0].text,\n",
        "                     int(member[4][0].text),\n",
        "                     int(member[4][1].text),\n",
        "                     int(member[4][2].text),\n",
        "                     int(member[4][3].text)\n",
        "                     )\n",
        "            xml_list.append(value)\n",
        "    column_name = ['filename', 'width', 'height', 'class', 'xmin', 'ymin', 'xmax', 'ymax']\n",
        "    xml_df = pd.DataFrame(xml_list, columns=column_name)\n",
        "    return xml_df\n",
        "\n",
        "\n",
        "def main():\n",
        "\t'''\n",
        "    for directory in ['train','testing']:\n",
        "        image_path = os.path.join(os.getcwd(), 'images/{}'.format(directory).format(directory))\n",
        "        xml_df = xml_to_csv(image_path)\n",
        "        xml_df.to_csv('data/{}_labels.csv'.format(directory), index=None)\n",
        "        print('Successfully converted xml to csv.')\n",
        "\t''' \n",
        "\timage_path = os.path.join(os.getcwd())\n",
        "\txml_df = xml_to_csv(image_path)\n",
        "\txml_df.to_csv('../train_labels.csv', index=None)\n",
        "\n",
        "\t#image_path = os.path.join(os.getcwd(), 'totoro/images/test')\n",
        "\t#xml_df = xml_to_csv(image_path)\n",
        "\t#xml_df.to_csv('totoro/data/test_labels.csv',index=None)\n",
        "\n",
        "main()"
      ],
      "execution_count": 24,
      "outputs": []
    },
    {
      "cell_type": "markdown",
      "metadata": {
        "id": "a45qFKzqNq5o"
      },
      "source": [
        "# csv tfrecord"
      ]
    },
    {
      "cell_type": "code",
      "metadata": {
        "colab": {
          "base_uri": "https://localhost:8080/"
        },
        "id": "22zIyisgXitD",
        "outputId": "d7bd2abc-3f93-46b8-cddf-d513218b86f1"
      },
      "source": [
        "!git clone https://github.com/fllay/totoro.git #Import Totoro and Nekobus data from Github"
      ],
      "execution_count": 47,
      "outputs": [
        {
          "output_type": "stream",
          "text": [
            "Cloning into 'totoro'...\n",
            "remote: Enumerating objects: 823, done.\u001b[K\n",
            "remote: Total 823 (delta 0), reused 0 (delta 0), pack-reused 823\u001b[K\n",
            "Receiving objects: 100% (823/823), 63.31 MiB | 12.63 MiB/s, done.\n",
            "Resolving deltas: 100% (407/407), done.\n",
            "Checking out files: 100% (822/822), done.\n"
          ],
          "name": "stdout"
        }
      ]
    },
    {
      "cell_type": "code",
      "metadata": {
        "id": "lsZP42hAYBoY"
      },
      "source": [
        " !cp -r /root/models/totoro/tfrecord/ /ce2/ssd/data/VOCdevkit/MELON/totoro/tfrecord/"
      ],
      "execution_count": 56,
      "outputs": []
    },
    {
      "cell_type": "code",
      "metadata": {
        "colab": {
          "base_uri": "https://localhost:8080/"
        },
        "id": "lT7g3-UEQSAG",
        "outputId": "e6bb11d3-1f97-487c-8f07-603ef2231b60"
      },
      "source": [
        "%cd  totoro/tfrecord/"
      ],
      "execution_count": 87,
      "outputs": [
        {
          "output_type": "stream",
          "text": [
            "/content/gdrive/.shortcut-targets-by-id/1hQoqbcLdIKP1y1vE2waDf28rLEbA3yqR/CEProject63-21ObjectDetection/colab_work/ssd/data/VOCdevkit/MELON/totoro/tfrecord\n"
          ],
          "name": "stdout"
        }
      ]
    },
    {
      "cell_type": "code",
      "metadata": {
        "colab": {
          "base_uri": "https://localhost:8080/"
        },
        "id": "VUbJ5IPsWc-z",
        "outputId": "55613f95-5d64-4e7c-f1d7-74f9317e46cf"
      },
      "source": [
        "!python generate_tfrecord.py --csv_input=/ce2/ssd/data/VOCdevkit/MELON/saved.csv  --output_path=train.record --image_dir=/ce2/ssd/data/VOCdevkit/MELON/JPEGImages"
      ],
      "execution_count": 88,
      "outputs": [
        {
          "output_type": "stream",
          "text": [
            "WARNING:tensorflow:From generate_tfrecord.py:104: The name tf.app.run is deprecated. Please use tf.compat.v1.app.run instead.\n",
            "\n",
            "WARNING:tensorflow:From generate_tfrecord.py:90: The name tf.python_io.TFRecordWriter is deprecated. Please use tf.io.TFRecordWriter instead.\n",
            "\n",
            "W0319 11:31:48.355916 139988578473856 module_wrapper.py:139] From generate_tfrecord.py:90: The name tf.python_io.TFRecordWriter is deprecated. Please use tf.io.TFRecordWriter instead.\n",
            "\n",
            "WARNING:tensorflow:From generate_tfrecord.py:49: The name tf.gfile.GFile is deprecated. Please use tf.io.gfile.GFile instead.\n",
            "\n",
            "W0319 11:31:48.557427 139988578473856 module_wrapper.py:139] From generate_tfrecord.py:49: The name tf.gfile.GFile is deprecated. Please use tf.io.gfile.GFile instead.\n",
            "\n",
            "Traceback (most recent call last):\n",
            "  File \"generate_tfrecord.py\", line 104, in <module>\n",
            "    tf.app.run()\n",
            "  File \"/tensorflow-1.15.2/python3.7/tensorflow_core/python/platform/app.py\", line 40, in run\n",
            "    _run(main=main, argv=argv, flags_parser=_parse_flags_tolerate_undef)\n",
            "  File \"/usr/local/lib/python3.7/dist-packages/absl/app.py\", line 300, in run\n",
            "    _run_main(main, args)\n",
            "  File \"/usr/local/lib/python3.7/dist-packages/absl/app.py\", line 251, in _run_main\n",
            "    sys.exit(main(argv))\n",
            "  File \"generate_tfrecord.py\", line 95, in main\n",
            "    tf_example = create_tf_example(group, path)\n",
            "  File \"generate_tfrecord.py\", line 50, in create_tf_example\n",
            "    encoded_jpg = fid.read()\n",
            "  File \"/tensorflow-1.15.2/python3.7/tensorflow_core/python/lib/io/file_io.py\", line 122, in read\n",
            "    self._preread_check()\n",
            "  File \"/tensorflow-1.15.2/python3.7/tensorflow_core/python/lib/io/file_io.py\", line 84, in _preread_check\n",
            "    compat.as_bytes(self.__name), 1024 * 512)\n",
            "tensorflow.python.framework.errors_impl.NotFoundError: /ce2/ssd/data/VOCdevkit/MELON/JPEGImages/10794851-punk-girl-full-body-on-white-background0.txt; No such file or directory\n"
          ],
          "name": "stdout"
        }
      ]
    }
  ]
}