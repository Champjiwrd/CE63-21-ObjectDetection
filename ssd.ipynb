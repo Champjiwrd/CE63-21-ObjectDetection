{
  "nbformat": 4,
  "nbformat_minor": 0,
  "metadata": {
    "colab": {
      "name": "ssd.ipynb",
      "provenance": [],
      "authorship_tag": "ABX9TyMOKFnClFwzymxG1iq45+De",
      "include_colab_link": true
    },
    "kernelspec": {
      "name": "python3",
      "display_name": "Python 3"
    },
    "accelerator": "GPU"
  },
  "cells": [
    {
      "cell_type": "markdown",
      "metadata": {
        "id": "view-in-github",
        "colab_type": "text"
      },
      "source": [
        "<a href=\"https://colab.research.google.com/github/Champjiwrd/CE63-21-ObjectDetection/blob/master/ssd.ipynb\" target=\"_parent\"><img src=\"https://colab.research.google.com/assets/colab-badge.svg\" alt=\"Open In Colab\"/></a>"
      ]
    },
    {
      "cell_type": "code",
      "metadata": {
        "colab": {
          "base_uri": "https://localhost:8080/"
        },
        "id": "0L8qcgf-SSKS",
        "outputId": "48a1a949-965c-4d1f-89df-620c370c8ea6"
      },
      "source": [
        "from google.colab import drive\n",
        "drive.mount('/content/drive')"
      ],
      "execution_count": null,
      "outputs": [
        {
          "output_type": "stream",
          "text": [
            "Mounted at /content/drive\n"
          ],
          "name": "stdout"
        }
      ]
    },
    {
      "cell_type": "code",
      "metadata": {
        "id": "l7JoZiXVSeBL"
      },
      "source": [
        "!ln -s /content/drive/MyDrive/CEProject63-21ObjectDetection/colab_work/ /ce\n",
        "!ln -s /content/drive/MyDrive/CEProject63-21ObjectDetection/dataset/ /dataset"
      ],
      "execution_count": null,
      "outputs": []
    },
    {
      "cell_type": "code",
      "metadata": {
        "colab": {
          "base_uri": "https://localhost:8080/"
        },
        "id": "hMB8OJKoTYcb",
        "outputId": "20bb7447-0cdd-4e5a-f8f1-38a4fc484404"
      },
      "source": [
        "%cd /ce/"
      ],
      "execution_count": null,
      "outputs": [
        {
          "output_type": "stream",
          "text": [
            "/content/drive/.shortcut-targets-by-id/1hQoqbcLdIKP1y1vE2waDf28rLEbA3yqR/CEProject63-21ObjectDetection/colab_work\n"
          ],
          "name": "stdout"
        }
      ]
    },
    {
      "cell_type": "markdown",
      "metadata": {
        "id": "5NtgPKLmIBql"
      },
      "source": [
        "# balancap"
      ]
    },
    {
      "cell_type": "code",
      "metadata": {
        "colab": {
          "base_uri": "https://localhost:8080/"
        },
        "id": "8_-33T-CTpxR",
        "outputId": "8ce9f47f-9c0d-4b4c-e1ea-7cb061097c2c"
      },
      "source": [
        "!git clone https://github.com/balancap/SSD-Tensorflow.git"
      ],
      "execution_count": null,
      "outputs": [
        {
          "output_type": "stream",
          "text": [
            "Cloning into 'SSD-Tensorflow'...\n",
            "remote: Enumerating objects: 809, done.\u001b[K\n",
            "remote: Total 809 (delta 0), reused 0 (delta 0), pack-reused 809\u001b[K\n",
            "Receiving objects: 100% (809/809), 113.09 MiB | 17.87 MiB/s, done.\n",
            "Resolving deltas: 100% (545/545), done.\n",
            "Checking out files: 100% (64/64), done.\n"
          ],
          "name": "stdout"
        }
      ]
    },
    {
      "cell_type": "code",
      "metadata": {
        "colab": {
          "base_uri": "https://localhost:8080/"
        },
        "id": "5P9YYfm8UQHc",
        "outputId": "5af4e17e-6f09-477e-899a-a328b7ef033f"
      },
      "source": [
        "%cd SSD-Tensorflow/"
      ],
      "execution_count": null,
      "outputs": [
        {
          "output_type": "stream",
          "text": [
            "/content/drive/.shortcut-targets-by-id/1hQoqbcLdIKP1y1vE2waDf28rLEbA3yqR/CEProject63-21ObjectDetection/colab_work/SSD-Tensorflow\n"
          ],
          "name": "stdout"
        }
      ]
    },
    {
      "cell_type": "code",
      "metadata": {
        "colab": {
          "base_uri": "https://localhost:8080/"
        },
        "id": "d6Qfs200TAwJ",
        "outputId": "9d2dbacf-b492-47ab-e4a2-b6cf521af4f9"
      },
      "source": [
        "EVAL_DIR = \"./logs/\"\n",
        "CHECKPOINT_PATH = \"./checkpoints/VGG_VOC0712_SSD_300x300_ft_iter_120000.ckpt\"\n",
        "!python eval_ssd_network.py \\\n",
        "    --eval_dir= EVAL_DIR \\\n",
        "    --dataset_dir= DATASET_DIR \\\n",
        "    --dataset_name=pascalvoc_2007 \\\n",
        "    --dataset_split_name=test \\\n",
        "    --model_name=ssd_300_vgg \\\n",
        "    --checkpoint_path= CHECKPOINT_PATH \\\n",
        "    --batch_size=1"
      ],
      "execution_count": null,
      "outputs": [
        {
          "output_type": "stream",
          "text": [
            "2021-03-16 18:02:26.618913: I tensorflow/stream_executor/platform/default/dso_loader.cc:49] Successfully opened dynamic library libcudart.so.11.0\n",
            "Traceback (most recent call last):\n",
            "  File \"eval_ssd_network.py\", line 24, in <module>\n",
            "    import tf_extended as tfe\n",
            "  File \"/content/drive/.shortcut-targets-by-id/1hQoqbcLdIKP1y1vE2waDf28rLEbA3yqR/CEProject63-21ObjectDetection/colab_work/SSD-Tensorflow/tf_extended/__init__.py\", line 19, in <module>\n",
            "    from tf_extended.metrics import *\n",
            "  File \"/content/drive/.shortcut-targets-by-id/1hQoqbcLdIKP1y1vE2waDf28rLEbA3yqR/CEProject63-21ObjectDetection/colab_work/SSD-Tensorflow/tf_extended/metrics.py\", line 20, in <module>\n",
            "    from tensorflow.contrib.framework.python.ops import variables as contrib_variables\n",
            "ModuleNotFoundError: No module named 'tensorflow.contrib'\n"
          ],
          "name": "stdout"
        }
      ]
    },
    {
      "cell_type": "markdown",
      "metadata": {
        "id": "5XKo0Zo-II32"
      },
      "source": [
        "# coldmoon"
      ]
    },
    {
      "cell_type": "code",
      "metadata": {
        "colab": {
          "base_uri": "https://localhost:8080/"
        },
        "id": "cYf6emQqUVBY",
        "outputId": "cc06e1d1-3176-4ab7-add1-4fd176487bec"
      },
      "source": [
        "%cd ./ssd"
      ],
      "execution_count": null,
      "outputs": [
        {
          "output_type": "stream",
          "text": [
            "/content/drive/.shortcut-targets-by-id/1hQoqbcLdIKP1y1vE2waDf28rLEbA3yqR/CEProject63-21ObjectDetection/colab_work/ssd\n"
          ],
          "name": "stdout"
        }
      ]
    },
    {
      "cell_type": "code",
      "metadata": {
        "colab": {
          "base_uri": "https://localhost:8080/"
        },
        "id": "1L9ZAn2VAtwd",
        "outputId": "98fe4286-0c77-4bc5-c367-a38b0c7c0d39"
      },
      "source": [
        "!pwd"
      ],
      "execution_count": null,
      "outputs": [
        {
          "output_type": "stream",
          "text": [
            "/content/drive/.shortcut-targets-by-id/1hQoqbcLdIKP1y1vE2waDf28rLEbA3yqR/CEProject63-21ObjectDetection/colab_work/ssd\n"
          ],
          "name": "stdout"
        }
      ]
    },
    {
      "cell_type": "code",
      "metadata": {
        "id": "Nn8PzLqvKQ1Y",
        "colab": {
          "base_uri": "https://localhost:8080/"
        },
        "outputId": "8e78e8f9-153a-4771-d373-30163f80dd37"
      },
      "source": [
        "!sudo apt update"
      ],
      "execution_count": null,
      "outputs": [
        {
          "output_type": "stream",
          "text": [
            "Get:1 https://cloud.r-project.org/bin/linux/ubuntu bionic-cran40/ InRelease [3,626 B]\n",
            "Ign:2 https://developer.download.nvidia.com/compute/cuda/repos/ubuntu1804/x86_64  InRelease\n",
            "Get:3 http://security.ubuntu.com/ubuntu bionic-security InRelease [88.7 kB]\n",
            "Hit:4 http://archive.ubuntu.com/ubuntu bionic InRelease\n",
            "Get:5 https://cloud.r-project.org/bin/linux/ubuntu bionic-cran40/ Packages [49.4 kB]\n",
            "Ign:6 https://developer.download.nvidia.com/compute/machine-learning/repos/ubuntu1804/x86_64  InRelease\n",
            "Get:7 https://developer.download.nvidia.com/compute/cuda/repos/ubuntu1804/x86_64  Release [697 B]\n",
            "Get:8 http://ppa.launchpad.net/c2d4u.team/c2d4u4.0+/ubuntu bionic InRelease [15.9 kB]\n",
            "Hit:9 https://developer.download.nvidia.com/compute/machine-learning/repos/ubuntu1804/x86_64  Release\n",
            "Get:10 https://developer.download.nvidia.com/compute/cuda/repos/ubuntu1804/x86_64  Release.gpg [836 B]\n",
            "Get:11 http://archive.ubuntu.com/ubuntu bionic-updates InRelease [88.7 kB]\n",
            "Hit:13 http://ppa.launchpad.net/cran/libgit2/ubuntu bionic InRelease\n",
            "Get:14 http://archive.ubuntu.com/ubuntu bionic-backports InRelease [74.6 kB]\n",
            "Ign:15 https://developer.download.nvidia.com/compute/cuda/repos/ubuntu1804/x86_64  Packages\n",
            "Get:15 https://developer.download.nvidia.com/compute/cuda/repos/ubuntu1804/x86_64  Packages [603 kB]\n",
            "Hit:16 http://ppa.launchpad.net/deadsnakes/ppa/ubuntu bionic InRelease\n",
            "Get:17 http://security.ubuntu.com/ubuntu bionic-security/universe amd64 Packages [1,398 kB]\n",
            "Hit:18 http://ppa.launchpad.net/graphics-drivers/ppa/ubuntu bionic InRelease\n",
            "Get:19 http://archive.ubuntu.com/ubuntu bionic-updates/restricted amd64 Packages [363 kB]\n",
            "Get:20 http://ppa.launchpad.net/c2d4u.team/c2d4u4.0+/ubuntu bionic/main Sources [1,746 kB]\n",
            "Get:21 http://archive.ubuntu.com/ubuntu bionic-updates/main amd64 Packages [2,425 kB]\n",
            "Get:22 http://security.ubuntu.com/ubuntu bionic-security/main amd64 Packages [1,995 kB]\n",
            "Get:23 http://security.ubuntu.com/ubuntu bionic-security/restricted amd64 Packages [333 kB]\n",
            "Get:24 http://archive.ubuntu.com/ubuntu bionic-updates/universe amd64 Packages [2,165 kB]\n",
            "Get:25 http://ppa.launchpad.net/c2d4u.team/c2d4u4.0+/ubuntu bionic/main amd64 Packages [894 kB]\n",
            "Fetched 12.2 MB in 2s (5,816 kB/s)\n",
            "Reading package lists... Done\n",
            "Building dependency tree       \n",
            "Reading state information... Done\n",
            "55 packages can be upgraded. Run 'apt list --upgradable' to see them.\n"
          ],
          "name": "stdout"
        }
      ]
    },
    {
      "cell_type": "code",
      "metadata": {
        "id": "16VY7dbFIv94",
        "colab": {
          "base_uri": "https://localhost:8080/"
        },
        "outputId": "23760097-45a3-4fa3-83c5-1b89f37f92b0"
      },
      "source": [
        "!sudo apt build-dep caffe-cuda"
      ],
      "execution_count": null,
      "outputs": [
        {
          "output_type": "stream",
          "text": [
            "Reading package lists... Done\n",
            "Picking 'caffe-contrib' as source package instead of 'caffe-cuda'\n",
            "E: Unable to find a source package for caffe-cuda\n"
          ],
          "name": "stdout"
        }
      ]
    },
    {
      "cell_type": "code",
      "metadata": {
        "colab": {
          "base_uri": "https://localhost:8080/"
        },
        "id": "UNHuJmNiISco",
        "outputId": "adb51f75-3eb5-4137-cacf-3bc5d956e950"
      },
      "source": [
        "!git checkout ssd\n",
        "!cp Makefile.config.example Makefile.config\n",
        "!make -j8\n",
        "\n",
        "!make py\n",
        "!make test -j8\n",
        "\n",
        "!make runtest -j8"
      ],
      "execution_count": null,
      "outputs": [
        {
          "output_type": "stream",
          "text": [
            "^C\n",
            "CXX .build_release/src/caffe/proto/caffe.pb.cc\n",
            "CXX src/caffe/common.cpp\n",
            "CXX src/caffe/blob.cpp\n",
            "CXX src/caffe/internal_thread.cpp\n",
            "CXX src/caffe/layer.cpp\n",
            "CXX src/caffe/data_transformer.cpp\n",
            "CXX src/caffe/data_reader.cpp\n",
            "CXX src/caffe/layer_factory.cpp\n",
            "In file included from .build_release/src/caffe/proto/caffe.pb.cc:5:0:\n",
            ".build_release/src/caffe/proto/caffe.pb.h:9:10: fatal error: google/protobuf/stubs/common.h: No such file or directory\n",
            " #include <google/protobuf/stubs/common.h>\n",
            "          ^~~~~~~~~~~~~~~~~~~~~~~~~~~~~~~~\n",
            "compilation terminated.\n",
            "Makefile:582: recipe for target '.build_release/src/caffe/proto/caffe.pb.o' failed\n",
            "make: *** [.build_release/src/caffe/proto/caffe.pb.o] Error 1\n",
            "make: *** Waiting for unfinished jobs....\n",
            "In file included from src/caffe/data_transformer.cpp:8:0:\n",
            "./include/caffe/data_transformer.hpp:6:10: fatal error: google/protobuf/repeated_field.h: No such file or directory\n",
            " #include \"google/protobuf/repeated_field.h\"\n",
            "          ^~~~~~~~~~~~~~~~~~~~~~~~~~~~~~~~~~\n",
            "compilation terminated.\n",
            "Makefile:575: recipe for target '.build_release/src/caffe/data_transformer.o' failed\n",
            "make: *** [.build_release/src/caffe/data_transformer.o] Error 1\n",
            "In file included from ./include/caffe/blob.hpp:8:0,\n",
            "                 from ./include/caffe/layer.hpp:8,\n",
            "                 from src/caffe/layer_factory.cpp:8:\n",
            "./include/caffe/common.hpp:5:10: fatal error: gflags/gflags.h: No such file or directory\n",
            " #include <gflags/gflags.h>\n",
            "          ^~~~~~~~~~~~~~~~~\n",
            "compilation terminated.\n",
            "Makefile:575: recipe for target '.build_release/src/caffe/layer_factory.o' failed\n",
            "make: *** [.build_release/src/caffe/layer_factory.o] Error 1\n",
            "In file included from ./include/caffe/blob.hpp:8:0,\n",
            "                 from src/caffe/blob.cpp:4:\n",
            "./include/caffe/common.hpp:5:10: fatal error: gflags/gflags.h: No such file or directory\n",
            " #include <gflags/gflags.h>\n",
            "          ^~~~~~~~~~~~~~~~~\n",
            "compilation terminated.\n",
            "Makefile:575: recipe for target '.build_release/src/caffe/blob.o' failed\n",
            "make: *** [.build_release/src/caffe/blob.o] Error 1\n",
            "In file included from ./include/caffe/blob.hpp:8:0,\n",
            "                 from ./include/caffe/layer.hpp:8,\n",
            "                 from src/caffe/layer.cpp:2:\n",
            "./include/caffe/common.hpp:5:10: fatal error: gflags/gflags.h: No such file or directory\n",
            " #include <gflags/gflags.h>\n",
            "          ^~~~~~~~~~~~~~~~~\n",
            "compilation terminated.\n",
            "Makefile:575: recipe for target '.build_release/src/caffe/layer.o' failed\n",
            "make: *** [.build_release/src/caffe/layer.o] Error 1\n",
            "src/caffe/common.cpp:2:10: fatal error: glog/logging.h: No such file or directory\n",
            " #include <glog/logging.h>\n",
            "          ^~~~~~~~~~~~~~~~\n",
            "compilation terminated.\n",
            "Makefile:575: recipe for target '.build_release/src/caffe/common.o' failed\n",
            "make: *** [.build_release/src/caffe/common.o] Error 1\n",
            "In file included from ./include/caffe/internal_thread.hpp:4:0,\n",
            "                 from src/caffe/internal_thread.cpp:4:\n",
            "./include/caffe/common.hpp:5:10: fatal error: gflags/gflags.h: No such file or directory\n",
            " #include <gflags/gflags.h>\n",
            "          ^~~~~~~~~~~~~~~~~\n",
            "compilation terminated.\n",
            "Makefile:575: recipe for target '.build_release/src/caffe/internal_thread.o' failed\n",
            "make: *** [.build_release/src/caffe/internal_thread.o] Error 1\n",
            "In file included from src/caffe/data_reader.cpp:6:0:\n",
            "./include/caffe/common.hpp:5:10: fatal error: gflags/gflags.h: No such file or directory\n",
            " #include <gflags/gflags.h>\n",
            "          ^~~~~~~~~~~~~~~~~\n",
            "compilation terminated.\n",
            "Makefile:575: recipe for target '.build_release/src/caffe/data_reader.o' failed\n",
            "make: *** [.build_release/src/caffe/data_reader.o] Error 1\n",
            "CXX .build_release/src/caffe/proto/caffe.pb.cc\n",
            "In file included from .build_release/src/caffe/proto/caffe.pb.cc:5:0:\n",
            ".build_release/src/caffe/proto/caffe.pb.h:9:10: fatal error: google/protobuf/stubs/common.h: No such file or directory\n",
            " #include <google/protobuf/stubs/common.h>\n",
            "          ^~~~~~~~~~~~~~~~~~~~~~~~~~~~~~~~\n",
            "compilation terminated.\n",
            "Makefile:582: recipe for target '.build_release/src/caffe/proto/caffe.pb.o' failed\n",
            "make: *** [.build_release/src/caffe/proto/caffe.pb.o] Error 1\n",
            "CXX src/caffe/test/test_accuracy_layer.cpp\n",
            "CXX src/caffe/test/test_argmax_layer.cpp\n",
            "CXX src/caffe/test/test_batch_norm_layer.cpp\n",
            "CXX src/caffe/test/test_bbox_util.cpp\n",
            "CXX src/caffe/test/test_annotated_data_layer.cpp\n",
            "CXX src/caffe/test/test_batch_reindex_layer.cpp\n",
            "CXX src/caffe/test/test_bias_layer.cpp\n",
            "CXX src/caffe/test/test_benchmark.cpp\n",
            "In file included from ./include/caffe/blob.hpp:8:0,\n",
            "                 from src/caffe/test/test_accuracy_layer.cpp:6:\n",
            "./include/caffe/common.hpp:5:10: fatal error: gflags/gflags.h: No such file or directory\n",
            " #include <gflags/gflags.h>\n",
            "          ^~~~~~~~~~~~~~~~~\n",
            "compilation terminated.\n",
            "Makefile:575: recipe for target '.build_release/src/caffe/test/test_accuracy_layer.o' failed\n",
            "make: *** [.build_release/src/caffe/test/test_accuracy_layer.o] Error 1\n",
            "make: *** Waiting for unfinished jobs....\n",
            "In file included from ./include/caffe/blob.hpp:8:0,\n",
            "                 from src/caffe/test/test_batch_norm_layer.cpp:7:\n",
            "./include/caffe/common.hpp:5:10: fatal error: gflags/gflags.h: No such file or directory\n",
            " #include <gflags/gflags.h>\n",
            "          ^~~~~~~~~~~~~~~~~\n",
            "compilation terminated.\n",
            "Makefile:575: recipe for target '.build_release/src/caffe/test/test_batch_norm_layer.o' failed\n",
            "make: *** [.build_release/src/caffe/test/test_batch_norm_layer.o] Error 1\n",
            "In file included from ./include/caffe/blob.hpp:8:0,\n",
            "                 from src/caffe/test/test_bias_layer.cpp:6:\n",
            "./include/caffe/common.hpp:5:10: fatal error: gflags/gflags.h: No such file or directory\n",
            " #include <gflags/gflags.h>\n",
            "          ^~~~~~~~~~~~~~~~~\n",
            "compilation terminated.\n",
            "Makefile:575: recipe for target '.build_release/src/caffe/test/test_bias_layer.o' failed\n",
            "make: *** [.build_release/src/caffe/test/test_bias_layer.o] Error 1\n",
            "In file included from ./include/caffe/blob.hpp:8:0,\n",
            "                 from src/caffe/test/test_batch_reindex_layer.cpp:5:\n",
            "./include/caffe/common.hpp:5:10: fatal error: gflags/gflags.h: No such file or directory\n",
            " #include <gflags/gflags.h>\n",
            "          ^~~~~~~~~~~~~~~~~\n",
            "compilation terminated.\n",
            "Makefile:575: recipe for target '.build_release/src/caffe/test/test_batch_reindex_layer.o' failed\n",
            "make: *** [.build_release/src/caffe/test/test_batch_reindex_layer.o] Error 1\n",
            "In file included from ./include/caffe/blob.hpp:8:0,\n",
            "                 from src/caffe/test/test_argmax_layer.cpp:6:\n",
            "./include/caffe/common.hpp:5:10: fatal error: gflags/gflags.h: No such file or directory\n",
            " #include <gflags/gflags.h>\n",
            "          ^~~~~~~~~~~~~~~~~\n",
            "compilation terminated.\n",
            "Makefile:575: recipe for target '.build_release/src/caffe/test/test_argmax_layer.o' failed\n",
            "make: *** [.build_release/src/caffe/test/test_argmax_layer.o] Error 1\n",
            "In file included from src/caffe/test/test_bbox_util.cpp:7:0:\n",
            "./include/caffe/common.hpp:5:10: fatal error: gflags/gflags.h: No such file or directory\n",
            " #include <gflags/gflags.h>\n",
            "          ^~~~~~~~~~~~~~~~~\n",
            "compilation terminated.\n",
            "Makefile:575: recipe for target '.build_release/src/caffe/test/test_bbox_util.o' failed\n",
            "make: *** [.build_release/src/caffe/test/test_bbox_util.o] Error 1\n",
            "In file included from ./include/caffe/blob.hpp:8:0,\n",
            "                 from src/caffe/test/test_annotated_data_layer.cpp:9:\n",
            "./include/caffe/common.hpp:5:10: fatal error: gflags/gflags.h: No such file or directory\n",
            " #include <gflags/gflags.h>\n",
            "          ^~~~~~~~~~~~~~~~~\n",
            "compilation terminated.\n",
            "Makefile:575: recipe for target '.build_release/src/caffe/test/test_annotated_data_layer.o' failed\n",
            "make: *** [.build_release/src/caffe/test/test_annotated_data_layer.o] Error 1\n",
            "In file included from src/caffe/test/test_benchmark.cpp:5:0:\n",
            "./include/caffe/common.hpp:5:10: fatal error: gflags/gflags.h: No such file or directory\n",
            " #include <gflags/gflags.h>\n",
            "          ^~~~~~~~~~~~~~~~~\n",
            "compilation terminated.\n",
            "Makefile:575: recipe for target '.build_release/src/caffe/test/test_benchmark.o' failed\n",
            "make: *** [.build_release/src/caffe/test/test_benchmark.o] Error 1\n",
            "CXX src/caffe/test/test_accuracy_layer.cpp\n",
            "CXX src/caffe/test/test_argmax_layer.cpp\n",
            "CXX src/caffe/test/test_annotated_data_layer.cpp\n",
            "CXX src/caffe/test/test_batch_reindex_layer.cpp\n",
            "CXX src/caffe/test/test_bbox_util.cpp\n",
            "CXX src/caffe/test/test_bias_layer.cpp\n",
            "CXX src/caffe/test/test_benchmark.cpp\n",
            "CXX src/caffe/test/test_batch_norm_layer.cpp\n",
            "In file included from ./include/caffe/blob.hpp:8:0,\n",
            "                 from src/caffe/test/test_argmax_layer.cpp:6:\n",
            "./include/caffe/common.hpp:5:10: fatal error: gflags/gflags.h: No such file or directory\n",
            " #include <gflags/gflags.h>\n",
            "          ^~~~~~~~~~~~~~~~~\n",
            "compilation terminated.\n",
            "Makefile:575: recipe for target '.build_release/src/caffe/test/test_argmax_layer.o' failed\n",
            "make: *** [.build_release/src/caffe/test/test_argmax_layer.o] Error 1\n",
            "make: *** Waiting for unfinished jobs....\n",
            "In file included from ./include/caffe/blob.hpp:8:0,\n",
            "                 from src/caffe/test/test_annotated_data_layer.cpp:9:\n",
            "./include/caffe/common.hpp:5:10: fatal error: gflags/gflags.h: No such file or directory\n",
            " #include <gflags/gflags.h>\n",
            "          ^~~~~~~~~~~~~~~~~\n",
            "compilation terminated.\n",
            "Makefile:575: recipe for target '.build_release/src/caffe/test/test_annotated_data_layer.o' failed\n",
            "make: *** [.build_release/src/caffe/test/test_annotated_data_layer.o] Error 1\n",
            "In file included from ./include/caffe/blob.hpp:8:0,\n",
            "                 from src/caffe/test/test_accuracy_layer.cpp:6:\n",
            "./include/caffe/common.hpp:5:10: fatal error: gflags/gflags.h: No such file or directory\n",
            " #include <gflags/gflags.h>\n",
            "          ^~~~~~~~~~~~~~~~~\n",
            "compilation terminated.\n",
            "Makefile:575: recipe for target '.build_release/src/caffe/test/test_accuracy_layer.o' failed\n",
            "make: *** [.build_release/src/caffe/test/test_accuracy_layer.o] Error 1\n",
            "In file included from src/caffe/test/test_bbox_util.cpp:7:0:\n",
            "./include/caffe/common.hpp:5:10: fatal error: gflags/gflags.h: No such file or directory\n",
            " #include <gflags/gflags.h>\n",
            "          ^~~~~~~~~~~~~~~~~\n",
            "compilation terminated.\n",
            "Makefile:575: recipe for target '.build_release/src/caffe/test/test_bbox_util.o' failed\n",
            "make: *** [.build_release/src/caffe/test/test_bbox_util.o] Error 1\n",
            "In file included from ./include/caffe/blob.hpp:8:0,\n",
            "                 from src/caffe/test/test_batch_reindex_layer.cpp:5:\n",
            "./include/caffe/common.hpp:5:10: fatal error: gflags/gflags.h: No such file or directory\n",
            " #include <gflags/gflags.h>\n",
            "          ^~~~~~~~~~~~~~~~~\n",
            "compilation terminated.\n",
            "Makefile:575: recipe for target '.build_release/src/caffe/test/test_batch_reindex_layer.o' failed\n",
            "make: *** [.build_release/src/caffe/test/test_batch_reindex_layer.o] Error 1\n",
            "In file included from ./include/caffe/blob.hpp:8:0,\n",
            "                 from src/caffe/test/test_batch_norm_layer.cpp:7:\n",
            "./include/caffe/common.hpp:5:10: fatal error: gflags/gflags.h: No such file or directory\n",
            " #include <gflags/gflags.h>\n",
            "          ^~~~~~~~~~~~~~~~~\n",
            "compilation terminated.\n",
            "Makefile:575: recipe for target '.build_release/src/caffe/test/test_batch_norm_layer.o' failed\n",
            "make: *** [.build_release/src/caffe/test/test_batch_norm_layer.o] Error 1\n",
            "In file included from ./include/caffe/blob.hpp:8:0,\n",
            "                 from src/caffe/test/test_bias_layer.cpp:6:\n",
            "./include/caffe/common.hpp:5:10: fatal error: gflags/gflags.h: No such file or directory\n",
            " #include <gflags/gflags.h>\n",
            "          ^~~~~~~~~~~~~~~~~\n",
            "compilation terminated.\n",
            "Makefile:575: recipe for target '.build_release/src/caffe/test/test_bias_layer.o' failed\n",
            "make: *** [.build_release/src/caffe/test/test_bias_layer.o] Error 1\n",
            "In file included from src/caffe/test/test_benchmark.cpp:5:0:\n",
            "./include/caffe/common.hpp:5:10: fatal error: gflags/gflags.h: No such file or directory\n",
            " #include <gflags/gflags.h>\n",
            "          ^~~~~~~~~~~~~~~~~\n",
            "compilation terminated.\n",
            "Makefile:575: recipe for target '.build_release/src/caffe/test/test_benchmark.o' failed\n",
            "make: *** [.build_release/src/caffe/test/test_benchmark.o] Error 1\n"
          ],
          "name": "stdout"
        }
      ]
    },
    {
      "cell_type": "code",
      "metadata": {
        "id": "Hm02XypRJyMu"
      },
      "source": [
        "!chmod u+x ./data/MELON/create_data.sh"
      ],
      "execution_count": null,
      "outputs": []
    },
    {
      "cell_type": "code",
      "metadata": {
        "colab": {
          "base_uri": "https://localhost:8080/"
        },
        "id": "-PqpBlFqJYiL",
        "outputId": "27b2dd3d-56be-464f-de1c-597dffede493"
      },
      "source": [
        "!data/MELON/create_data.sh"
      ],
      "execution_count": null,
      "outputs": [
        {
          "output_type": "stream",
          "text": [
            "Traceback (most recent call last):\n",
            "  File \"/content/drive/MyDrive/CEProject63-21ObjectDetection/colab_work/ssd/scripts/create_annoset.py\", line 7, in <module>\n",
            "    from caffe.proto import caffe_pb2\n",
            "  File \"/usr/lib/python3/dist-packages/caffe/__init__.py\", line 1, in <module>\n",
            "    from .pycaffe import Net, SGDSolver, NesterovSolver, AdaGradSolver, RMSPropSolver, AdaDeltaSolver, AdamSolver, NCCL, Timer\n",
            "  File \"/usr/lib/python3/dist-packages/caffe/pycaffe.py\", line 13, in <module>\n",
            "    from ._caffe import Net, SGDSolver, NesterovSolver, AdaGradSolver, \\\n",
            "ModuleNotFoundError: No module named 'caffe._caffe'\n",
            "Traceback (most recent call last):\n",
            "  File \"/content/drive/MyDrive/CEProject63-21ObjectDetection/colab_work/ssd/scripts/create_annoset.py\", line 7, in <module>\n",
            "    from caffe.proto import caffe_pb2\n",
            "  File \"/usr/lib/python3/dist-packages/caffe/__init__.py\", line 1, in <module>\n",
            "    from .pycaffe import Net, SGDSolver, NesterovSolver, AdaGradSolver, RMSPropSolver, AdaDeltaSolver, AdamSolver, NCCL, Timer\n",
            "  File \"/usr/lib/python3/dist-packages/caffe/pycaffe.py\", line 13, in <module>\n",
            "    from ._caffe import Net, SGDSolver, NesterovSolver, AdaGradSolver, \\\n",
            "ModuleNotFoundError: No module named 'caffe._caffe'\n"
          ],
          "name": "stdout"
        }
      ]
    },
    {
      "cell_type": "markdown",
      "metadata": {
        "id": "_DAAnz5zIaEy"
      },
      "source": [
        "# dunno"
      ]
    },
    {
      "cell_type": "code",
      "metadata": {
        "id": "8pQK2NbYe0Nd"
      },
      "source": [
        "!sudo apt-get install -y --no-install-recommends libboost-all-dev"
      ],
      "execution_count": null,
      "outputs": []
    },
    {
      "cell_type": "code",
      "metadata": {
        "colab": {
          "base_uri": "https://localhost:8080/"
        },
        "id": "zVt0XjzGQNp7",
        "outputId": "99b12a02-93d8-4326-8ba0-a701bc01dc0f"
      },
      "source": [
        "!sudo apt-get install libprotobuf-dev libleveldb-dev libsnappy-dev libopencv-dev libboost-all-dev libhdf5-serial-dev \\ libgflags-dev libgoogle-glog-dev liblmdb-dev protobuf-compiler"
      ],
      "execution_count": null,
      "outputs": [
        {
          "output_type": "stream",
          "text": [
            "Reading package lists... Done\n",
            "Building dependency tree       \n",
            "Reading state information... Done\n",
            "E: Unable to locate package  libgflags-dev\n"
          ],
          "name": "stdout"
        }
      ]
    },
    {
      "cell_type": "code",
      "metadata": {
        "colab": {
          "base_uri": "https://localhost:8080/",
          "height": 129
        },
        "id": "688ktHzfQVEy",
        "outputId": "162ea1af-e314-4a7b-8af2-008ca3ce74f7"
      },
      "source": [
        "!git clone https://github.com/BVLC/caffe \n",
        "!cd caffe\n",
        "!cp Makefile.config.example Makefile.config\n",
        "!sudo pip install scikit-image protobuf \n",
        "!cd python \n",
        "for req in $(cat requirements.txt); \n",
        "do sudo pip install $req; \n",
        "done"
      ],
      "execution_count": null,
      "outputs": [
        {
          "output_type": "error",
          "ename": "SyntaxError",
          "evalue": "ignored",
          "traceback": [
            "\u001b[0;36m  File \u001b[0;32m\"<ipython-input-39-d211891a8dd6>\"\u001b[0;36m, line \u001b[0;32m6\u001b[0m\n\u001b[0;31m    for req in $(cat requirements.txt);\u001b[0m\n\u001b[0m               ^\u001b[0m\n\u001b[0;31mSyntaxError\u001b[0m\u001b[0;31m:\u001b[0m invalid syntax\n"
          ]
        }
      ]
    },
    {
      "cell_type": "code",
      "metadata": {
        "id": "e1H6G8i3RDhM"
      },
      "source": [
        ""
      ],
      "execution_count": null,
      "outputs": []
    }
  ]
}